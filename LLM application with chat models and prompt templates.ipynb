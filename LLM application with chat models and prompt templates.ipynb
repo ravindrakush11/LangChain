{
 "cells": [
  {
   "cell_type": "markdown",
   "id": "2117ec72-5bfa-421b-8711-d294f3d5b701",
   "metadata": {},
   "source": [
    "# Build a Simple LLM application with chat models and prompt templates"
   ]
  },
  {
   "cell_type": "code",
   "execution_count": 7,
   "id": "d6aa5c1a-ea4c-4208-b079-fba15940d210",
   "metadata": {},
   "outputs": [
    {
     "name": "stdout",
     "output_type": "stream",
     "text": [
      "Note: you may need to restart the kernel to use updated packages.\n"
     ]
    },
    {
     "name": "stderr",
     "output_type": "stream",
     "text": [
      "\n",
      "[notice] A new release of pip is available: 23.0.1 -> 25.0.1\n",
      "[notice] To update, run: python.exe -m pip install --upgrade pip\n"
     ]
    }
   ],
   "source": [
    "pip install -q langchain python-dotenv\n"
   ]
  },
  {
   "cell_type": "code",
   "execution_count": 51,
   "id": "09f59d33-93ae-457d-930f-cc4ea7f5a858",
   "metadata": {
    "collapsed": true,
    "jupyter": {
     "outputs_hidden": true
    }
   },
   "outputs": [
    {
     "name": "stdout",
     "output_type": "stream",
     "text": [
      "aiofiles==24.1.0\n",
      "aiohappyeyeballs==2.4.3\n",
      "aiohttp==3.10.10\n",
      "aiosignal==1.3.1\n",
      "annotated-types==0.7.0\n",
      "anyio==4.6.2\n",
      "argon2-cffi==23.1.0\n",
      "argon2-cffi-bindings==21.2.0\n",
      "arrow==1.3.0\n",
      "asttokens==3.0.0\n",
      "async-lru==2.0.5\n",
      "async-timeout==4.0.3\n",
      "attrs==24.2.0\n",
      "babel==2.17.0\n",
      "beautifulsoup4==4.12.3\n",
      "bleach==6.2.0\n",
      "blinker==1.9.0\n",
      "certifi==2024.8.30\n",
      "cffi==1.17.1\n",
      "charset-normalizer==3.4.0\n",
      "click==8.1.7\n",
      "colorama==0.4.6\n",
      "comm==0.2.2\n",
      "dataclasses-json==0.6.7\n",
      "debugpy==1.8.14\n",
      "decorator==5.2.1\n",
      "defusedxml==0.7.1\n",
      "Deprecated==1.2.14\n",
      "dirtyjson==1.0.8\n",
      "distlib==0.3.9\n",
      "distro==1.9.0\n",
      "exceptiongroup==1.2.2\n",
      "executing==2.2.0\n",
      "fastapi==0.115.12\n",
      "fastjsonschema==2.21.1\n",
      "ffmpy==0.5.0\n",
      "filelock==3.16.1\n",
      "Flask==3.1.0\n",
      "flask-mysql-connector==1.1.0\n",
      "fqdn==1.5.1\n",
      "frozenlist==1.4.1\n",
      "fsspec==2024.9.0\n",
      "gradio==5.27.0\n",
      "gradio_client==1.9.0\n",
      "greenlet==3.1.1\n",
      "groovy==0.1.2\n",
      "groq==0.23.1\n",
      "h11==0.14.0\n",
      "httpcore==1.0.6\n",
      "httpx==0.27.2\n",
      "httpx-sse==0.4.0\n",
      "huggingface-hub==0.30.2\n",
      "idna==3.10\n",
      "iniconfig==2.0.0\n",
      "ipykernel==6.29.5\n",
      "ipython==8.36.0\n",
      "ipywidgets==8.1.6\n",
      "isoduration==20.11.0\n",
      "itsdangerous==2.2.0\n",
      "jedi==0.19.2\n",
      "Jinja2==3.1.6\n",
      "jiter==0.6.1\n",
      "joblib==1.4.2\n",
      "json5==0.12.0\n",
      "jsonpatch==1.33\n",
      "jsonpointer==3.0.0\n",
      "jsonschema==4.23.0\n",
      "jsonschema-specifications==2025.4.1\n",
      "jupyter==1.1.1\n",
      "jupyter-console==6.6.3\n",
      "jupyter-events==0.12.0\n",
      "jupyter-lsp==2.2.5\n",
      "jupyter_client==8.6.3\n",
      "jupyter_core==5.7.2\n",
      "jupyter_server==2.15.0\n",
      "jupyter_server_terminals==0.5.3\n",
      "jupyterlab==4.4.1\n",
      "jupyterlab_pygments==0.3.0\n",
      "jupyterlab_server==2.27.3\n",
      "jupyterlab_widgets==3.0.14\n",
      "langchain==0.3.24\n",
      "langchain-core==0.3.56\n",
      "langchain-groq==0.3.2\n",
      "langchain-openai==0.3.14\n",
      "langchain-text-splitters==0.3.8\n",
      "langgraph==0.2.38\n",
      "langgraph-checkpoint==2.0.1\n",
      "langgraph-sdk==0.1.33\n",
      "langsmith==0.1.135\n",
      "llama-cloud==0.1.2\n",
      "llama-deploy==0.1.0\n",
      "llama-index==0.11.7\n",
      "llama-index-agent-openai==0.3.4\n",
      "llama-index-cli==0.3.1\n",
      "llama-index-core==0.11.17\n",
      "llama-index-embeddings-openai==0.2.5\n",
      "llama-index-indices-managed-llama-cloud==0.4.0\n",
      "llama-index-legacy==0.9.48.post3\n",
      "llama-index-llms-openai==0.2.13\n",
      "llama-index-multi-modal-llms-openai==0.2.2\n",
      "llama-index-program-openai==0.2.0\n",
      "llama-index-question-gen-openai==0.2.0\n",
      "llama-index-readers-file==0.2.2\n",
      "llama-index-readers-llama-parse==0.3.0\n",
      "llama-parse==0.5.7\n",
      "markdown-it-py==3.0.0\n",
      "MarkupSafe==3.0.2\n",
      "marshmallow==3.22.0\n",
      "matplotlib-inline==0.1.7\n",
      "mdurl==0.1.2\n",
      "mistune==3.1.3\n",
      "mpmath==1.3.0\n",
      "msgpack==1.1.0\n",
      "multidict==6.1.0\n",
      "mypy-extensions==1.0.0\n",
      "mysql-connector-python==9.2.0\n",
      "nbclient==0.10.2\n",
      "nbconvert==7.16.6\n",
      "nbformat==5.10.4\n",
      "nest-asyncio==1.6.0\n",
      "networkx==3.4.1\n",
      "nltk==3.9.1\n",
      "notebook==7.4.1\n",
      "notebook_shim==0.2.4\n",
      "numpy==1.26.4\n",
      "openai==1.76.0\n",
      "orjson==3.10.7\n",
      "overrides==7.7.0\n",
      "packaging==24.1\n",
      "pandas==2.2.3\n",
      "pandocfilters==1.5.1\n",
      "parso==0.8.4\n",
      "pillow==10.4.0\n",
      "platformdirs==4.3.6\n",
      "pluggy==1.5.0\n",
      "prometheus_client==0.21.1\n",
      "prompt_toolkit==3.0.51\n",
      "propcache==0.2.0\n",
      "psutil==7.0.0\n",
      "pure_eval==0.2.3\n",
      "pycparser==2.22\n",
      "pydantic==2.9.2\n",
      "pydantic-settings==2.5.2\n",
      "pydantic_core==2.23.4\n",
      "pydub==0.25.1\n",
      "Pygments==2.19.1\n",
      "pypdf==4.3.1\n",
      "pytest==8.3.3\n",
      "pytest-asyncio==0.23.8\n",
      "pytest-mock==3.14.0\n",
      "python-dateutil==2.9.0.post0\n",
      "python-dotenv==1.0.1\n",
      "python-json-logger==3.3.0\n",
      "python-multipart==0.0.20\n",
      "pytz==2024.2\n",
      "pywin32==310\n",
      "pywinpty==2.0.15\n",
      "PyYAML==6.0.2\n",
      "pyzmq==26.4.0\n",
      "referencing==0.36.2\n",
      "regex==2024.9.11\n",
      "requests==2.32.3\n",
      "requests-toolbelt==1.0.0\n",
      "rfc3339-validator==0.1.4\n",
      "rfc3986-validator==0.1.1\n",
      "rich==14.0.0\n",
      "rpds-py==0.24.0\n",
      "ruff==0.11.7\n",
      "safehttpx==0.1.6\n",
      "semantic-version==2.10.0\n",
      "Send2Trash==1.8.3\n",
      "shellingham==1.5.4\n",
      "six==1.16.0\n",
      "sniffio==1.3.1\n",
      "soupsieve==2.6\n",
      "SQLAlchemy==2.0.35\n",
      "stack-data==0.6.3\n",
      "starlette==0.46.2\n",
      "striprtf==0.0.26\n",
      "sympy==1.13.3\n",
      "tenacity==8.5.0\n",
      "terminado==0.18.1\n",
      "tiktoken==0.8.0\n",
      "tinycss2==1.4.0\n",
      "tomli==2.0.2\n",
      "tomlkit==0.13.2\n",
      "torch==2.7.0\n",
      "tornado==6.4.2\n",
      "tqdm==4.66.5\n",
      "traitlets==5.14.3\n",
      "typer==0.15.2\n",
      "types-python-dateutil==2.9.0.20241206\n",
      "typing-inspect==0.9.0\n",
      "typing_extensions==4.12.2\n",
      "tzdata==2024.2\n",
      "uri-template==1.3.0\n",
      "urllib3==2.2.3\n",
      "uvicorn==0.30.6\n",
      "virtualenv==20.26.6\n",
      "wcwidth==0.2.13\n",
      "webcolors==24.11.1\n",
      "webencodings==0.5.1\n",
      "websocket-client==1.8.0\n",
      "websockets==15.0.1\n",
      "Werkzeug==3.1.3\n",
      "widgetsnbextension==4.0.14\n",
      "wrapt==1.16.0\n",
      "yarl==1.15.2\n",
      "Note: you may need to restart the kernel to use updated packages.\n"
     ]
    }
   ],
   "source": [
    "pip freeze"
   ]
  },
  {
   "cell_type": "code",
   "execution_count": 7,
   "id": "af2c4a0f-6ec3-4bed-8d6f-9fe4f91af580",
   "metadata": {},
   "outputs": [
    {
     "name": "stdout",
     "output_type": "stream",
     "text": [
      "Note: you may need to restart the kernel to use updated packages.\n"
     ]
    },
    {
     "name": "stderr",
     "output_type": "stream",
     "text": [
      "\n",
      "[notice] A new release of pip is available: 23.0.1 -> 25.0.1\n",
      "[notice] To update, run: python.exe -m pip install --upgrade pip\n"
     ]
    }
   ],
   "source": [
    "pip install -q langchain python-dotenv\n"
   ]
  },
  {
   "cell_type": "code",
   "execution_count": 9,
   "id": "dc98ab67-572c-4ef1-8fd9-d7d4628dc9ea",
   "metadata": {},
   "outputs": [],
   "source": [
    "# Create a `.env` file using Python\n",
    "with open('.env', 'w') as f:\n",
    "    f.write(\"MY_API_KEY=your_api_key_here\\n\")\n",
    "    f.write(\"SECRET_KEY=your_secret_key_here\\n\")\n"
   ]
  },
  {
   "cell_type": "markdown",
   "id": "6adbcc71-1762-43a2-a9ab-7d0bf24b7bd7",
   "metadata": {},
   "source": [
    "### LangSmith"
   ]
  },
  {
   "cell_type": "code",
   "execution_count": 1,
   "id": "bf7af9af-51fa-4299-bc70-02f38be1169b",
   "metadata": {},
   "outputs": [
    {
     "name": "stdin",
     "output_type": "stream",
     "text": [
      "Enter your Langsmith API key(optional): ········\n",
      "Enter your LangSmith API Key(Optional):  ········\n",
      "Enter your GROQ API key (required if using GROQ) ········\n"
     ]
    }
   ],
   "source": [
    "import getpass\n",
    "import os\n",
    "\n",
    "try:\n",
    "    from dotenv import load_dotenv\n",
    "    load_dotenv()\n",
    "except ImportError:\n",
    "    pass\n",
    "    \n",
    "os.environ[\"LANGSMIT_TRACING\"] = 'true'\n",
    "if \"LANGSMIT_API_KEY\" not in os.environ:\n",
    "    os.environ[\"LANGSMITH_API_KEY\"] = getpass.getpass(\n",
    "        prompt = \"Enter your Langsmith API key(optional):\"\n",
    "    )\n",
    "if \"LANGSMITH_PROJECT\" not in os.environ:\n",
    "    os.environ[\"LANGSMITH_PROJECT\"] = getpass.getpass(\n",
    "        prompt = 'Enter your LangSmith API Key(Optional): '\n",
    "    )\n",
    "    if not os.environ.get(\"LANGSMITH_PROJECT\"):\n",
    "        os.environ[\"LANGSMITH_PROJECT\"] = 'default'\n",
    "\n",
    "if 'GROQ_API_KEY' not in os.environ:\n",
    "    os.environ['GROQ_API_KEY'] = getpass.getpass(\n",
    "        prompt = 'Enter your GROQ API key (required if using GROQ)'\n",
    "    )\n",
    "\n",
    "\n"
   ]
  },
  {
   "cell_type": "markdown",
   "id": "a017fc25-fdb1-4ed4-bd6b-44170021fde6",
   "metadata": {},
   "source": [
    "### Using Language Models"
   ]
  },
  {
   "cell_type": "code",
   "execution_count": 50,
   "id": "5e91dda1-7317-43c1-87b8-b74848a92d77",
   "metadata": {},
   "outputs": [],
   "source": [
    "import getpass\n",
    "import os\n",
    "\n",
    "if not os.environ.get('GROQ_API_KEY'):\n",
    "    os.environ['GROQ_API_KEY'] = getpass.getpass(\"Enter API key for Groq: \")\n",
    "\n",
    "from langchain.chat_models import init_chat_model\n",
    "model = init_chat_model('llama3-8b-8192', model_provider = 'groq')\n"
   ]
  },
  {
   "cell_type": "code",
   "execution_count": 3,
   "id": "5f417b4b-8a97-464c-887f-34ea177cf54e",
   "metadata": {},
   "outputs": [
    {
     "data": {
      "text/plain": [
       "AIMessage(content='नमस्ते! (Namaste!)', additional_kwargs={}, response_metadata={'token_usage': {'completion_tokens': 11, 'prompt_tokens': 24, 'total_tokens': 35, 'completion_time': 0.009166667, 'prompt_time': 0.005659606, 'queue_time': 0.256383964, 'total_time': 0.014826273}, 'model_name': 'llama3-8b-8192', 'system_fingerprint': 'fp_179b0f92c9', 'finish_reason': 'stop', 'logprobs': None}, id='run-efa91fc6-b387-4985-9e33-a843658697ae-0', usage_metadata={'input_tokens': 24, 'output_tokens': 11, 'total_tokens': 35})"
      ]
     },
     "execution_count": 3,
     "metadata": {},
     "output_type": "execute_result"
    }
   ],
   "source": [
    "from langchain_core.messages import HumanMessage, SystemMessage\n",
    "\n",
    "messages = [\n",
    "    SystemMessage(\"Translate the following from English to Hindi\"),\n",
    "    HumanMessage(\"Hi!\"),\n",
    "]\n",
    "model.invoke(messages)"
   ]
  },
  {
   "cell_type": "code",
   "execution_count": 4,
   "id": "cca7b375-d91e-45b5-95f7-926ad3b7d0a4",
   "metadata": {},
   "outputs": [
    {
     "data": {
      "text/plain": [
       "AIMessage(content=\"Hello! It's nice to meet you. Is there something I can help you with or would you like to chat?\", additional_kwargs={}, response_metadata={'token_usage': {'completion_tokens': 25, 'prompt_tokens': 11, 'total_tokens': 36, 'completion_time': 0.020833333, 'prompt_time': 0.001812125, 'queue_time': 0.236654546, 'total_time': 0.022645458}, 'model_name': 'llama3-8b-8192', 'system_fingerprint': 'fp_dadc9d6142', 'finish_reason': 'stop', 'logprobs': None}, id='run-8cbd7249-ebd0-4ca9-a6e3-be061ec9a932-0', usage_metadata={'input_tokens': 11, 'output_tokens': 25, 'total_tokens': 36})"
      ]
     },
     "execution_count": 4,
     "metadata": {},
     "output_type": "execute_result"
    }
   ],
   "source": [
    "model.invoke(\"Hello\")\n",
    "model.invoke([{\n",
    "    'role': 'assistant',\n",
    "    'content': 'Hello'\n",
    "}])\n",
    "model.invoke([HumanMessage(\"Hello\")])"
   ]
  },
  {
   "cell_type": "markdown",
   "id": "9134b7be-2252-459c-b5a0-b99801223351",
   "metadata": {},
   "source": [
    "### Streaming"
   ]
  },
  {
   "cell_type": "code",
   "execution_count": 5,
   "id": "28edd2eb-f4b4-41a4-b031-9df935f2172d",
   "metadata": {},
   "outputs": [
    {
     "name": "stdout",
     "output_type": "stream",
     "text": [
      "|न|म|स|्त|े|!| (|Nam|aste|!)||"
     ]
    }
   ],
   "source": [
    "for token in model.stream(messages):\n",
    "    print(token.content, end= '|')"
   ]
  },
  {
   "cell_type": "markdown",
   "id": "43bf706d-ec6a-495d-ae07-872c901c96f8",
   "metadata": {},
   "source": [
    "### Prompt Templates"
   ]
  },
  {
   "cell_type": "code",
   "execution_count": 45,
   "id": "6d8aae46-caab-4de1-baeb-1db423d9b263",
   "metadata": {},
   "outputs": [
    {
     "name": "stdin",
     "output_type": "stream",
     "text": [
      "Enter text: tell me about yourself\n"
     ]
    },
    {
     "data": {
      "text/plain": [
       "ChatPromptValue(messages=[SystemMessage(content='Translate the following from English into Hindi', additional_kwargs={}, response_metadata={}), HumanMessage(content='tell me about yourself', additional_kwargs={}, response_metadata={})])"
      ]
     },
     "execution_count": 45,
     "metadata": {},
     "output_type": "execute_result"
    }
   ],
   "source": [
    "from langchain_core.prompts import ChatPromptTemplate\n",
    "\n",
    "system_template = \"Translate the following from English into {language}\"\n",
    "\n",
    "prompt_template = ChatPromptTemplate.from_messages(\n",
    "    [('system', system_template), ('user', '{text}')]\n",
    ")\n",
    "\n",
    "prompt = prompt_template.invoke({\"language\": \"Hindi\", \"text\": input(\"Enter text:\")\n",
    "    }\n",
    ")\n",
    "prompt"
   ]
  },
  {
   "cell_type": "code",
   "execution_count": 47,
   "id": "44a74b39-b48b-4d7c-9c7d-17734e7b896d",
   "metadata": {},
   "outputs": [
    {
     "data": {
      "text/plain": [
       "[SystemMessage(content='Translate the following from English into Hindi', additional_kwargs={}, response_metadata={}),\n",
       " HumanMessage(content='tell me about yourself', additional_kwargs={}, response_metadata={})]"
      ]
     },
     "execution_count": 47,
     "metadata": {},
     "output_type": "execute_result"
    }
   ],
   "source": [
    "prompt.to_messages()"
   ]
  },
  {
   "cell_type": "markdown",
   "id": "7c83f208-506e-4002-b522-5969e9805d68",
   "metadata": {},
   "source": [
    "### Invoking the Chat model on the formatted prompt\n"
   ]
  },
  {
   "cell_type": "code",
   "execution_count": 48,
   "id": "a8e3c898-4d2f-4dc2-be75-5323b3439f42",
   "metadata": {},
   "outputs": [
    {
     "name": "stdout",
     "output_type": "stream",
     "text": [
      "Here's the translation:\n",
      "\n",
      "मैं कौन हूँ?\n",
      "\n",
      "(Maine koun hoon?)\n",
      "\n",
      "or\n",
      "\n",
      "मेरे बारे में बताएं\n",
      "\n",
      "(Mere bare mein bataen)\n",
      "\n",
      "Both of these translations roughly mean \"Tell me about yourself\".\n"
     ]
    }
   ],
   "source": [
    "response = model.invoke(prompt)\n",
    "print(response.content)"
   ]
  },
  {
   "cell_type": "code",
   "execution_count": null,
   "id": "16f879d0-b347-437f-a27b-cbc33d7b6fe5",
   "metadata": {},
   "outputs": [],
   "source": []
  }
 ],
 "metadata": {
  "kernelspec": {
   "display_name": "Python 3 (ipykernel)",
   "language": "python",
   "name": "python3"
  },
  "language_info": {
   "codemirror_mode": {
    "name": "ipython",
    "version": 3
   },
   "file_extension": ".py",
   "mimetype": "text/x-python",
   "name": "python",
   "nbconvert_exporter": "python",
   "pygments_lexer": "ipython3",
   "version": "3.10.11"
  }
 },
 "nbformat": 4,
 "nbformat_minor": 5
}
